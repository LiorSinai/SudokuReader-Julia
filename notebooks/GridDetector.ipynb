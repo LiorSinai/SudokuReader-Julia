{
 "cells": [
  {
   "cell_type": "markdown",
   "source": [
    "# Sudoku Grid Detection"
   ],
   "metadata": {}
  },
  {
   "cell_type": "code",
   "execution_count": 1,
   "source": [
    "using Images\r\n",
    "using ImageFiltering\r\n",
    "using ImageBinarization\r\n",
    "using OffsetArrays\r\n",
    "using Plots\r\n",
    "using FileIO\r\n",
    "using Revise"
   ],
   "outputs": [],
   "metadata": {}
  },
  {
   "cell_type": "code",
   "execution_count": 2,
   "source": [
    "Revise.includet(\"../utilities/Contours.jl\");\r\n",
    "using .Contours\r\n",
    "Revise.includet(\"../utilities/Transforms.jl\")\r\n",
    "using .Transforms"
   ],
   "outputs": [
    {
     "output_type": "stream",
     "name": "stderr",
     "text": [
      "WARNING: replacing module PointInPolygon.\n"
     ]
    }
   ],
   "metadata": {
    "scrolled": false
   }
  },
  {
   "cell_type": "markdown",
   "source": [
    "## Load image"
   ],
   "metadata": {}
  },
  {
   "cell_type": "code",
   "execution_count": 3,
   "source": [
    "image_path = \"../images/nytimes_20210807.jpg\";"
   ],
   "outputs": [],
   "metadata": {}
  },
  {
   "cell_type": "code",
   "execution_count": null,
   "source": [
    "image_raw = load(image_path)\r\n",
    "image = copy(image_raw)\r\n",
    "\r\n",
    "max_size = 1024 \r\n",
    "ratio = max_size/size(image, argmax(size(image)))\r\n",
    "if ratio < 1\r\n",
    "    image = imresize(image, ratio=ratio)\r\n",
    "end"
   ],
   "outputs": [],
   "metadata": {}
  },
  {
   "cell_type": "markdown",
   "source": [
    "## Preprocess"
   ],
   "metadata": {}
  },
  {
   "cell_type": "code",
   "execution_count": null,
   "source": [
    "window_size = 5;\r\n",
    "σ = 1 # 0.3*((window_size - 1) * 0.5 - 1) + 0.8  # OpenCV default"
   ],
   "outputs": [],
   "metadata": {}
  },
  {
   "cell_type": "code",
   "execution_count": null,
   "source": [
    "kernel = Kernel.gaussian((σ, σ), (window_size, window_size))\r\n",
    "p = heatmap(1:window_size, 1:window_size, kernel, aspectratio=1, xlims=(0.5, 5.5))\r\n"
   ],
   "outputs": [],
   "metadata": {}
  },
  {
   "cell_type": "code",
   "execution_count": null,
   "source": [
    "kernel = Kernel.gaussian((σ, σ), (window_size, window_size))\r\n",
    "img_gray = Gray.(image)\r\n",
    "img_gray = imfilter(img_gray, kernel)\r\n",
    "plot(hcat(Gray.(image), img_gray),  size = (800, 300), border=:none)"
   ],
   "outputs": [],
   "metadata": {}
  },
  {
   "cell_type": "code",
   "execution_count": null,
   "source": [
    "function invert_image(image)\r\n",
    "    image_inv = Gray.(image)\r\n",
    "    height, width = size(image)\r\n",
    "    for i in 1:height\r\n",
    "        for j in 1:width\r\n",
    "            image_inv[i, j] = 1 - image_inv[i, j]\r\n",
    "        end\r\n",
    "    end\r\n",
    "    return image_inv\r\n",
    "end;"
   ],
   "outputs": [],
   "metadata": {}
  },
  {
   "cell_type": "code",
   "execution_count": null,
   "source": [
    "blackwhite = binarize(img_gray, AdaptiveThreshold(window_size=15, percentage=7))\r\n",
    "blackwhite = invert_image(blackwhite)\r\n",
    "blackwhite"
   ],
   "outputs": [],
   "metadata": {}
  },
  {
   "cell_type": "markdown",
   "source": [
    "## Contours"
   ],
   "metadata": {}
  },
  {
   "cell_type": "code",
   "execution_count": null,
   "source": [
    "contours = find_contours(blackwhite)\r\n",
    "println(length(contours))\r\n",
    "img_contours = ones(RGB, size(image)) # copy(image)\r\n",
    "@time draw_contours!(img_contours, RGB(1,0,0), contours)\r\n",
    "contours = find_contours(blackwhite, external_only=true)\r\n",
    "@time draw_contours!(img_contours, RGB(0,0,1), contours)\r\n",
    "img_contours"
   ],
   "outputs": [],
   "metadata": {
    "scrolled": false
   }
  },
  {
   "cell_type": "code",
   "execution_count": null,
   "source": [
    "contours = find_contours(blackwhite, external_only=true)\r\n",
    "img_contours = ones(RGB, size(image)) # copy(image)\r\n",
    "@time fill_contours!(img_contours, RGB(1,0,0), contours)\r\n",
    "img_contours"
   ],
   "outputs": [],
   "metadata": {}
  },
  {
   "cell_type": "markdown",
   "source": [
    "## Fit Rectangle"
   ],
   "metadata": {}
  },
  {
   "cell_type": "code",
   "execution_count": null,
   "source": [
    "idx_max = argmax(map(calc_area_contour, contours))\r\n",
    "max_contour = contours[idx_max]\r\n",
    "print(length(max_contour))\r\n",
    "rect = fit_rectangle(max_contour)\r\n",
    "quad = fit_quad(max_contour)"
   ],
   "outputs": [],
   "metadata": {}
  },
  {
   "cell_type": "code",
   "execution_count": null,
   "source": [
    "contours = find_contours(blackwhite)\r\n",
    "img_contours = ones(RGB, size(image)) # copy(image)\r\n",
    "draw_contours!(img_contours, RGB(1,0,0), contours)\r\n",
    "contours = find_contours(blackwhite, external_only=true)\r\n",
    "draw_contours!(img_contours, RGB(0,0,1), contours)\r\n",
    "\r\n",
    "p = plot(img_contours, size=(800, 800))\r\n",
    "plot!(p, \r\n",
    "    [point[2] for point in vcat(rect, rect[1])], [point[1] for point in vcat(rect, rect[1])], \r\n",
    "    linewidth=6, label=\"\", color=:gray\r\n",
    "    )\r\n",
    "plot!(p, \r\n",
    "    [point[2] for point in vcat(quad, quad[1])], [point[1] for point in vcat(quad, quad[1])], \r\n",
    "    linewidth=6, label=\"\", color=:black\r\n",
    "    )\r\n",
    "plot!(border=:none, ticks=nothing)"
   ],
   "outputs": [],
   "metadata": {}
  },
  {
   "cell_type": "code",
   "execution_count": null,
   "source": [
    "img_contours = RGB.(blackwhite)\r\n",
    "fill_contour!(img_contours, RGB(1, 0, 0), max_contour)\r\n",
    "img_contours"
   ],
   "outputs": [],
   "metadata": {}
  },
  {
   "cell_type": "code",
   "execution_count": null,
   "source": [
    "function apply_mask(image, mask)\r\n",
    "    height, width = size(image)\r\n",
    "    T = typeof(image).parameters[1]\r\n",
    "    masked_image = zeros(T, size(image))\r\n",
    "    for i in 1:height\r\n",
    "        for j in 1:width\r\n",
    "            masked_image[i, j] = mask[i, j] > 0 ? image[i, j] : zero(T)\r\n",
    "        end\r\n",
    "    end\r\n",
    "    masked_image\r\n",
    "end"
   ],
   "outputs": [],
   "metadata": {}
  },
  {
   "cell_type": "code",
   "execution_count": null,
   "source": [
    "mask = zeros(size(image))\r\n",
    "fill_contour!(mask, 1, max_contour)\r\n",
    "masked_image = apply_mask(blackwhite, mask)\r\n",
    "masked_image"
   ],
   "outputs": [],
   "metadata": {}
  },
  {
   "cell_type": "markdown",
   "source": [
    "## Straighten grid"
   ],
   "metadata": {}
  },
  {
   "cell_type": "code",
   "execution_count": null,
   "source": [
    "using ImageTransformations, CoordinateTransformations\r\n",
    "using StaticArrays"
   ],
   "outputs": [],
   "metadata": {}
  },
  {
   "cell_type": "code",
   "execution_count": null,
   "source": [
    "rect = fit_rectangle(quad)\r\n",
    "rect_offset = [CartesianIndex(point[1] - rect[1][1] + 1, point[2] - rect[1][2] + 1) for point in rect]\r\n",
    "rect_offset"
   ],
   "outputs": [],
   "metadata": {}
  },
  {
   "cell_type": "code",
   "execution_count": null,
   "source": [
    "@time warped, invM = four_point_transform(blackwhite, par)\r\n",
    "warped"
   ],
   "outputs": [],
   "metadata": {}
  },
  {
   "cell_type": "markdown",
   "source": [
    "## Test warping back"
   ],
   "metadata": {}
  },
  {
   "cell_type": "code",
   "execution_count": null,
   "source": [
    "height, width = size(warped)\r\n",
    "corners = [(1, 1), (1, width), (height, width), (height, 1)]\r\n",
    "warped_corners = []\r\n",
    "for corner in corners\r\n",
    "    warped_corner = perspective_transform(invM)(corner)\r\n",
    "    push!(warped_corners, warped_corner)\r\n",
    "end\r\n",
    "y = [point[1] for point in warped_corners]\r\n",
    "x = [point[2] for point in warped_corners]\r\n",
    "plot(vcat(x, x[1]), vcat(y, y[1]), aspectratio=1)\r\n",
    "\r\n",
    "y = [point[1] for point in quad]\r\n",
    "x = [point[2] for point in quad]\r\n",
    "plot!(vcat(x, x[1]), vcat(y, y[1]), linestyle=:dash)"
   ],
   "outputs": [],
   "metadata": {}
  },
  {
   "cell_type": "code",
   "execution_count": null,
   "source": [
    "image_orig = copy(image)\r\n",
    "height_orig, width_orig = size(image_orig)\r\n",
    "\r\n",
    "image_warp, invM = four_point_transform(image, quad)\r\n",
    "height_warp, width_warp = size(image_warp)\r\n",
    "M = inv(invM)\r\n",
    "\r\n",
    "for i in 1:10\r\n",
    "    image_orig = warp(image_warp, perspective_transform(M), (1:width_orig, 1:height_orig))\r\n",
    "    image_warp = warp(image_orig, perspective_transform(invM), (1:height_warp, 1:width_warp))\r\n",
    "end\r\n",
    "image_warp"
   ],
   "outputs": [],
   "metadata": {}
  }
 ],
 "metadata": {
  "@webio": {
   "lastCommId": null,
   "lastKernelId": null
  },
  "kernelspec": {
   "display_name": "Julia 1.6.2",
   "language": "julia",
   "name": "julia-1.6"
  },
  "language_info": {
   "file_extension": ".jl",
   "mimetype": "application/julia",
   "name": "julia",
   "version": "1.6.2"
  }
 },
 "nbformat": 4,
 "nbformat_minor": 4
}