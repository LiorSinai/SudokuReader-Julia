{
 "cells": [
  {
   "cell_type": "markdown",
   "metadata": {},
   "source": [
    "## SudokuReader"
   ]
  },
  {
   "cell_type": "code",
   "execution_count": null,
   "metadata": {},
   "outputs": [],
   "source": [
    "using Images\n",
    "using Plots\n",
    "using FileIO\n",
    "using Flux\n",
    "using BSON"
   ]
  },
  {
   "cell_type": "code",
   "execution_count": null,
   "metadata": {},
   "outputs": [],
   "source": [
    "include(\"GridDetection/GridDetection.jl\")\n",
    "using .GridDetection\n",
    "\n",
    "include(\"DigitDetection/DigitExtraction.jl\")\n",
    "using .DigitExtration\n",
    "\n",
    "include(\"utilities/Transforms.jl\")\n",
    "using .Transforms"
   ]
  },
  {
   "cell_type": "markdown",
   "metadata": {},
   "source": [
    "## Load image"
   ]
  },
  {
   "cell_type": "code",
   "execution_count": null,
   "metadata": {
    "scrolled": false
   },
   "outputs": [],
   "source": [
    "image_path = \"images/sudoku_pyimagesearch.jpg\";\n",
    "image_raw = load(image_path)\n",
    "image = copy(image_raw)"
   ]
  },
  {
   "cell_type": "markdown",
   "metadata": {},
   "source": [
    "## Get grid"
   ]
  },
  {
   "cell_type": "code",
   "execution_count": null,
   "metadata": {},
   "outputs": [],
   "source": [
    "blackwhite, par = detect_grid(image);"
   ]
  },
  {
   "cell_type": "code",
   "execution_count": null,
   "metadata": {},
   "outputs": [],
   "source": [
    "canvas = plot(blackwhite)\n",
    "\n",
    "x = [point[2] for point in vcat(par, par[1])]\n",
    "y = [point[1] for point in vcat(par, par[1])]\n",
    "plot!(canvas, x, y, linewidth=3, label=\"\")"
   ]
  },
  {
   "cell_type": "markdown",
   "metadata": {},
   "source": [
    "## Extract digits"
   ]
  },
  {
   "cell_type": "code",
   "execution_count": null,
   "metadata": {},
   "outputs": [],
   "source": [
    "@time warped, invM = fourPointTransform(blackwhite, par)\n",
    "warped"
   ]
  },
  {
   "cell_type": "code",
   "execution_count": null,
   "metadata": {},
   "outputs": [],
   "source": [
    "BSON.@load \"DigitDetection\\\\models\\\\LeNet5_e20.bson\" model\n",
    "model(zeros(Float32, (28, 28, 1, 1))) # compile\n",
    "model"
   ]
  },
  {
   "cell_type": "code",
   "execution_count": null,
   "metadata": {},
   "outputs": [],
   "source": [
    "grid, centres, probs = read_digits(warped, model)\n",
    "display(grid)\n",
    "display(centres)\n",
    "display(probs)"
   ]
  },
  {
   "cell_type": "code",
   "execution_count": null,
   "metadata": {},
   "outputs": [],
   "source": [
    "function construct_grid(height, width; nblocks=3)\n",
    "    grid = []\n",
    "    step_i = height/nblocks\n",
    "    step_j = width/nblocks\n",
    "    for i in 0:nblocks\n",
    "        push!(grid, [(step_i * i, 1), (step_i * i, width)])\n",
    "    end\n",
    "    for j in 0:nblocks\n",
    "        push!(grid, [(1, step_j * j), (height, step_j * j)])\n",
    "    end\n",
    "    grid\n",
    "end"
   ]
  },
  {
   "cell_type": "code",
   "execution_count": null,
   "metadata": {},
   "outputs": [],
   "source": [
    "threshold = 0.9\n",
    "image_out = imresize(image, size(blackwhite));\n",
    "canvas = plot(image_out, ticks=nothing, border=nothing);\n",
    "\n",
    "for line in construct_grid(size(warped, 1), size(warped, 2))\n",
    "    line_unwarped = map(point -> apply_homography(point, invM), line)\n",
    "    xs = [point[2] for point in line_unwarped]\n",
    "    ys = [point[1] for point in line_unwarped]\n",
    "    plot!(xs, ys, label=\"\", linewidth=2, color=:yellow)\n",
    "end\n",
    "\n",
    "for i in 1:9\n",
    "    for j in 1:9\n",
    "        centre = centres[i, j]\n",
    "        centre_unwarped = apply_homography(centre, invM)\n",
    "        label =  (probs[i, j] > threshold) ? string(grid[i, j]) : \".\"\n",
    "        annotate!(canvas, centre_unwarped[2], centre_unwarped[1], label, :yellow)\n",
    "    end\n",
    "end\n",
    "canvas"
   ]
  },
  {
   "cell_type": "markdown",
   "metadata": {},
   "source": [
    "## solve puzzle"
   ]
  },
  {
   "cell_type": "code",
   "execution_count": null,
   "metadata": {},
   "outputs": [],
   "source": [
    "include(\"../SudokuSolver-jl/sudoku_solver.jl\")"
   ]
  },
  {
   "cell_type": "code",
   "execution_count": null,
   "metadata": {},
   "outputs": [],
   "source": [
    "solution_set, info = solve_sudoku(grid)\n",
    "grid_solved = solution_set[1]"
   ]
  },
  {
   "cell_type": "code",
   "execution_count": null,
   "metadata": {},
   "outputs": [],
   "source": [
    "threshold = 0.9\n",
    "image_out = imresize(image, size(blackwhite));\n",
    "canvas = plot(image_out, ticks=nothing, border=nothing);\n",
    "\n",
    "for line in construct_grid(size(warped, 1), size(warped, 2))\n",
    "    line_unwarped = map(point -> apply_homography(point, invM), line)\n",
    "    xs = [point[2] for point in line_unwarped]\n",
    "    ys = [point[1] for point in line_unwarped]\n",
    "    plot!(xs, ys, label=\"\", linewidth=2, color=:yellow)\n",
    "end\n",
    "\n",
    "\n",
    "for i in 1:9\n",
    "    for j in 1:9\n",
    "        centre = centres[i, j]\n",
    "        centre_unwarped = apply_homography(centre, invM)\n",
    "        color = (probs[i, j] > 0) ? :yellow : :red\n",
    "        annotate!(canvas, centre_unwarped[2], centre_unwarped[1], string(grid_solved[i, j]), color)\n",
    "    end\n",
    "end\n",
    "canvas"
   ]
  },
  {
   "cell_type": "code",
   "execution_count": null,
   "metadata": {},
   "outputs": [],
   "source": []
  }
 ],
 "metadata": {
  "@webio": {
   "lastCommId": null,
   "lastKernelId": null
  },
  "kernelspec": {
   "display_name": "Julia 1.6.2",
   "language": "julia",
   "name": "julia-1.6"
  },
  "language_info": {
   "file_extension": ".jl",
   "mimetype": "application/julia",
   "name": "julia",
   "version": "1.6.2"
  }
 },
 "nbformat": 4,
 "nbformat_minor": 4
}
